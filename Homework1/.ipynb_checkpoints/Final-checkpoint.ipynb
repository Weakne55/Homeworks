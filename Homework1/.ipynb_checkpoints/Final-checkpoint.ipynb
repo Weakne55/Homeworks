{
 "cells": [
  {
   "cell_type": "markdown",
   "id": "4a545bcd",
   "metadata": {},
   "source": [
    "Data sctructure for de bruijn graph"
   ]
  },
  {
   "cell_type": "code",
   "execution_count": 1,
   "id": "a4527b15",
   "metadata": {},
   "outputs": [],
   "source": [
    "class Node:\n",
    "    \"\"\" Class Node to represent a vertex in the de bruijn graph \"\"\"\n",
    "\n",
    "    def __init__(self, lab):\n",
    "        self.label = lab\n",
    "        self.indegree = 0\n",
    "        self.outdegree = 0\n",
    "\n",
    "\n",
    "class Edge:\n",
    "    \"\"\" Class Edge to represent an edge in the de bruijn graph \"\"\"\n",
    "    def __init__(self, lab):\n",
    "        self.label = lab"
   ]
  },
  {
   "cell_type": "markdown",
   "id": "01ab8a6f",
   "metadata": {},
   "source": [
    "Getting reads from a fasta file"
   ]
  },
  {
   "cell_type": "code",
   "execution_count": 2,
   "id": "43a1a491",
   "metadata": {},
   "outputs": [],
   "source": [
    "def FASTQ(filename) -> list:\n",
    "    '''\n",
    "    Convert fasta file to python dict\n",
    "    :param filename\n",
    "    :return: list of dicts {name:,sequence:,separator:,quality:}\n",
    "    '''\n",
    "\n",
    "    reads = []\n",
    "\n",
    "    def process(params):\n",
    "        ks = ['name', 'sequence', 'separator', 'quality']\n",
    "        return {k: v for k, v in zip(ks, params)}\n",
    "\n",
    "    with open(filename) as data:\n",
    "        lines = []\n",
    "        for line in data:\n",
    "            lines.append(line.rstrip())\n",
    "            if len(lines) == 4:\n",
    "                record = process(lines)\n",
    "                reads.append(record)\n",
    "                lines = []\n",
    "    return reads"
   ]
  },
  {
   "cell_type": "markdown",
   "id": "1c441b88",
   "metadata": {},
   "source": [
    "Merging files of right and left reads"
   ]
  },
  {
   "cell_type": "code",
   "execution_count": 4,
   "id": "f8cd2c17",
   "metadata": {},
   "outputs": [],
   "source": [
    "reads_right = FASTQ('Carsonella_ruddii_reads_paired_reads_right.fastq')\n",
    "reads_left = FASTQ('Carsonella_ruddii_reads_paired_reads_left.fastq')\n",
    "\n",
    "seq = list()\n",
    "\n",
    "for i in range(len(reads_left)):\n",
    "    seq.append(reads_left[i]['sequence'])\n",
    "    seq.append(reads_right[i]['sequence'])\n"
   ]
  },
  {
   "cell_type": "markdown",
   "id": "b49a94f3",
   "metadata": {},
   "source": [
    "Construction de bruijn graph from k-mers"
   ]
  },
  {
   "cell_type": "code",
   "execution_count": 5,
   "id": "d71a1edf",
   "metadata": {},
   "outputs": [],
   "source": [
    "def construct_graph(reads: iter, k: int) -> tuple:\n",
    "    \"\"\" Construct de bruijn graph from sets of short reads with k length word\"\"\"\n",
    "    edges = dict()\n",
    "    vertices = dict()\n",
    "\n",
    "    for read in reads:\n",
    "        i = 0\n",
    "        while i + k < len(read):\n",
    "            v1 = read[i:i + k]\n",
    "            v2 = read[i + 1:i + k + 1]\n",
    "            if v1 in edges.keys():\n",
    "                vertices[v1].outdegree += 1\n",
    "                edges[v1] += [Edge(v2)]\n",
    "            else:\n",
    "                vertices[v1] = Node(v1)\n",
    "                vertices[v1].outdegree += 1\n",
    "                edges[v1] = [Edge(v2)]\n",
    "            if v2 in edges.keys():\n",
    "                vertices[v2].indegree += 1\n",
    "            else:\n",
    "                vertices[v2] = Node(v2)\n",
    "                vertices[v2].indegree += 1\n",
    "                edges[v2] = []\n",
    "            i += 1\n",
    "\n",
    "    return vertices, edges"
   ]
  },
  {
   "cell_type": "markdown",
   "id": "b4d2ddd5",
   "metadata": {},
   "source": [
    "Output de bruijn graph for visual check"
   ]
  },
  {
   "cell_type": "code",
   "execution_count": 6,
   "id": "6cf0dccb",
   "metadata": {},
   "outputs": [],
   "source": [
    "def print_graph(g):\n",
    "    \"\"\" Print the information in the graph to be (somewhat) presentable \"\"\"\n",
    "    V = g[0]\n",
    "    E = g[1]\n",
    "    for k in V.keys():\n",
    "        print(\"name: \", V[k].label, \". indegree: \", V[k].indegree, \". outdegree: \", V[k].outdegree)\n",
    "        print(\"Edges: \")\n",
    "        for e in E[k]:\n",
    "            print(e.label)\n",
    "        print()"
   ]
  },
  {
   "cell_type": "markdown",
   "id": "6d01c5b8",
   "metadata": {},
   "source": [
    "Searching for vertices that could be starting vertices"
   ]
  },
  {
   "cell_type": "code",
   "execution_count": 7,
   "id": "704f9895",
   "metadata": {},
   "outputs": [],
   "source": [
    "def start_verticies(graph: dict) -> list:\n",
    "    \"\"\"Return list with vertices with zero indegree\"\"\"\n",
    "    starters = list()\n",
    "    for k in graph.keys():\n",
    "        if graph[k].indegree == 0:\n",
    "            starters.append(k)\n",
    "    return starters"
   ]
  },
  {
   "cell_type": "markdown",
   "id": "8bf4cf80",
   "metadata": {},
   "source": [
    "A template for searching for Eulerian paths and cycles in a graph. During the process it was found out that this was not included in the task"
   ]
  },
  {
   "cell_type": "code",
   "execution_count": null,
   "id": "3207b36c",
   "metadata": {},
   "outputs": [],
   "source": [
    "# def output_contigs(g: dict) -> list:  # ЭТО ВСЁ БЫЛО ЗРЯ(((((\n",
    "#     \"\"\" Perform searching for every Eulerian path in the graph to output genome contigs or even whole genome\"\"\"\n",
    "#     Edges = g[1]  # Take edges from de bruijn graph\n",
    "#     contigs = list()  # Our contigs from k-mers\n",
    "#     s = start_verticies(g[0])  # Find starting vertices\n",
    "#     for start in s:  # For every vertex with zero indegree\n",
    "#         E = Edges.copy()  # We will copy de bruijn graph for every start vertex, to save our time\n",
    "#         contig = start  # Our future contig\n",
    "#         current = start  # Our start vertex\n",
    "#         while len(E[current]) > 0:  # While we doesn`t meet vertex without descendants\n",
    "#             next = E[current][0]  # Choose next vertex\n",
    "#             E[current].remove(next)  # Remove edge between current and next  vertex\n",
    "#             contig += next.label[-1]  # Add last letter of next vertex to contig\n",
    "#             current = next.label  # Move to the next vertex\n",
    "#         contigs.append(contig)\n",
    "\n",
    "#     return contigs"
   ]
  },
  {
   "cell_type": "markdown",
   "id": "1ad45c9f",
   "metadata": {},
   "source": [
    "Searching for isolated vertices"
   ]
  },
  {
   "cell_type": "code",
   "execution_count": 8,
   "id": "fcb4aea7",
   "metadata": {},
   "outputs": [],
   "source": [
    "def isolated_cycle(G: dict) -> list:\n",
    "    \"\"\"\n",
    "    Find 1-in-1-out isolated vertices in graph\n",
    "    :param G:\n",
    "    :return: list of isolated vertices\n",
    "    \"\"\"\n",
    "    V = G[0]\n",
    "    E = G[1]\n",
    "    isolated = list()\n",
    "    for v in V.keys():\n",
    "        if V[v].indegree == 1 and V[v].outdegree == 1 and E[v][0].label == v:\n",
    "            isolated.append(v)\n",
    "    return isolated"
   ]
  },
  {
   "cell_type": "markdown",
   "id": "ab730f6f",
   "metadata": {},
   "source": [
    "Searching for contigs aka maximal linear path aka maximal non branching path"
   ]
  },
  {
   "cell_type": "code",
   "execution_count": 59,
   "id": "deba799e",
   "metadata": {},
   "outputs": [],
   "source": [
    "def maximal_non_branching_path(graph: dict) -> list:\n",
    "    \"\"\"\n",
    "    Find max length paths without branching\n",
    "    :param graph\n",
    "    :return: list of pathes\n",
    "    \"\"\"\n",
    "    V = graph[0]  # dict['str':Node]\n",
    "    E = graph[1]  # dict['str':[Edge1, Edge2]]\n",
    "    paths = list()\n",
    "    for v in V.keys():  # for every key:str in V\n",
    "        if V[v].indegree != 1 or V[v].outdegree != 1:  # if we have not  1-in-1-out vertex\n",
    "            if V[v].outdegree == 1:\n",
    "                for w in E[v]:  # for all neighboors of our vertex. We get w = Edge1\n",
    "                    nonbranchingpath = [v, w.label]\n",
    "                    while V[w.label].indegree == 1 and V[w.label].outdegree == 1:\n",
    "                        nonbranchingpath.append(E[w.label][0].label)\n",
    "                        w = E[w.label][0]\n",
    "                    paths.append(nonbranchingpath)\n",
    "    for cycle in isolated_cycle(graph):\n",
    "        paths.append(cycle)\n",
    "    return paths"
   ]
  },
  {
   "cell_type": "markdown",
   "id": "663df905",
   "metadata": {},
   "source": [
    "For fun I tried to visualize the graph. As it turned out, this only works on small graphs"
   ]
  },
  {
   "cell_type": "code",
   "execution_count": 60,
   "id": "2ca11e79",
   "metadata": {},
   "outputs": [],
   "source": [
    "import toyplot\n",
    "\n",
    "def plot_debruijn_graph(graph, width=1000,\n",
    "                        height=1000):  # Work only in jupyter notebook and doesn`t represent true graph\n",
    "    \"\"\"returns a toyplot graph from an input of edges\"\"\"\n",
    "    E = graph[1]\n",
    "    edges = list()\n",
    "    for t in E.keys():\n",
    "        for v in E[t]:\n",
    "            edges.append((t, v.label))\n",
    "    graph = toyplot.graph(\n",
    "        [i[0] for i in edges],\n",
    "        [i[1] for i in edges],\n",
    "        width=width,\n",
    "        height=height,\n",
    "        tmarker=\">\",\n",
    "        vsize=25,\n",
    "        vstyle={\"stroke\": \"black\", \"stroke-width\": 2, \"fill\": \"none\"},\n",
    "        vlstyle={\"font-size\": \"11px\"},\n",
    "        estyle={\"stroke\": \"black\", \"stroke-width\": 2},\n",
    "        layout=toyplot.layout.FruchtermanReingold(edges=toyplot.layout.CurvedEdges()))\n",
    "    return graph"
   ]
  },
  {
   "cell_type": "markdown",
   "id": "685d8707",
   "metadata": {},
   "source": [
    "Saving contigs in file"
   ]
  },
  {
   "cell_type": "code",
   "execution_count": 61,
   "id": "e6cf0920",
   "metadata": {},
   "outputs": [],
   "source": [
    "def Contigs_to_File(filename: str, reads: list, k: int) -> None:\n",
    "    \"\"\"\n",
    "    Write contigs from de Bruijn graph into file\n",
    "    :param filename: name of output file\n",
    "    :param reads: list of reads\n",
    "    :param k: length of k-mer\n",
    "    :return: nothing\n",
    "    \"\"\"\n",
    "    graph = construct_graph(reads, k)\n",
    "    answer = maximal_non_branching_path(graph)\n",
    "    \n",
    "    final = set()\n",
    "    for path in answer:\n",
    "        temp = ''\n",
    "        start = path[0]\n",
    "        temp += start\n",
    "        for el in path[1:]:\n",
    "            temp+= el[-1]\n",
    "        final.add(temp)\n",
    "    with open(filename, \"w\") as file:\n",
    "        for sss in final:\n",
    "            file.write(sss+'\\n')\n",
    "            \n",
    "    return"
   ]
  },
  {
   "cell_type": "markdown",
   "id": "8bbb3156",
   "metadata": {},
   "source": [
    "Output contigs in standart output of shell"
   ]
  },
  {
   "cell_type": "code",
   "execution_count": 62,
   "id": "4cabcb9f",
   "metadata": {},
   "outputs": [],
   "source": [
    "def Contigs_to_stdout(reads: list, k: int) -> None:\n",
    "    \"\"\"\n",
    "    Print contigs from de Bruijn graph into stdout\n",
    "    :param reads: list of reads\n",
    "    :param k: length of k-mer\n",
    "    :return: nothing\n",
    "    \"\"\"\n",
    "    graph = construct_graph(reads, k)\n",
    "    answer = maximal_non_branching_path(graph)\n",
    "    \n",
    "    final = set()\n",
    "    for path in answer:\n",
    "        temp = ''\n",
    "        start = path[0]\n",
    "        temp += start\n",
    "        for el in path[1:]:\n",
    "            temp+= el[-1]\n",
    "        final.add(temp)\n",
    "    print(*final,sep='\\n')\n",
    "    return"
   ]
  },
  {
   "cell_type": "markdown",
   "id": "eb4d227f",
   "metadata": {},
   "source": [
    "Tests"
   ]
  },
  {
   "cell_type": "code",
   "execution_count": 63,
   "id": "066a3fe6",
   "metadata": {},
   "outputs": [
    {
     "name": "stdout",
     "output_type": "stream",
     "text": [
      "TTTGCTGCTAGCA\n",
      "GAACCGCGATAATTGCTGCTAGCA\n",
      "TGCTGCTAGCATTGCAAATCG\n",
      "TTGCAAATCGAAGAACCGCGATA\n"
     ]
    }
   ],
   "source": [
    "\n",
    "a = 'TTTGCTGCTAGCATTGCAAATCGAA'\n",
    "b = 'CATTGCAAATCGAAGAACCGCGATA'\n",
    "c = 'GAACCGCGATAATTGCTGCTAGCAT'\n",
    "ls = [a, b, c]\n",
    "sum = 'TTTGCTGCTAGCATTGCAAATCGAAGAACCGCGATAATTGCTGCTAGCAT'\n",
    "\n",
    "Contigs_to_stdout(ls, 12)\n",
    "Contigs_to_File(\"Contigs.fasta\", ls, 12)"
   ]
  },
  {
   "cell_type": "markdown",
   "id": "64db2d92",
   "metadata": {},
   "source": [
    "Final output with contigs"
   ]
  },
  {
   "cell_type": "code",
   "execution_count": 65,
   "id": "24dfd33c",
   "metadata": {},
   "outputs": [],
   "source": [
    "Contigs_to_File(\"Contigs.fasta\", seq, 30)"
   ]
  }
 ],
 "metadata": {
  "kernelspec": {
   "display_name": "Python 3 (ipykernel)",
   "language": "python",
   "name": "python3"
  },
  "language_info": {
   "codemirror_mode": {
    "name": "ipython",
    "version": 3
   },
   "file_extension": ".py",
   "mimetype": "text/x-python",
   "name": "python",
   "nbconvert_exporter": "python",
   "pygments_lexer": "ipython3",
   "version": "3.9.6"
  }
 },
 "nbformat": 4,
 "nbformat_minor": 5
}
