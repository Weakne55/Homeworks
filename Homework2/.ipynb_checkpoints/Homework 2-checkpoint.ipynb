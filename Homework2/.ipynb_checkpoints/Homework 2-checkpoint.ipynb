{
 "cells": [
  {
   "cell_type": "code",
   "execution_count": 547,
   "id": "5573a037",
   "metadata": {},
   "outputs": [],
   "source": [
    "aminoacids = {\"A\": 89.1,\n",
    "              \"R\": 174.2,\n",
    "              \"N\": 132.1,\n",
    "              \"D\": 133.1,\n",
    "              \"C\": 121.2,\n",
    "              \"Q\": 146.1,\n",
    "              \"E\": 147.1,\n",
    "              \"G\": 75,\n",
    "              \"H\": 155.2,\n",
    "              \"I\": 131.2,\n",
    "              \"L\": 131.2,\n",
    "              \"K\": 146.2,\n",
    "              \"M\": 149.2,\n",
    "              \"F\": 165.2,\n",
    "              \"P\": 115.1,\n",
    "              \"S\": 105.1,\n",
    "              \"T\": 119.1,\n",
    "              \"W\": 204.2,\n",
    "              \"Y\": 181.2,\n",
    "              \"V\": 117.1,\n",
    "              \"O\": 132.1\n",
    "              }"
   ]
  },
  {
   "cell_type": "markdown",
   "id": "c8a401ad",
   "metadata": {},
   "source": [
    "читаем данные с файла и окгруляем их"
   ]
  },
  {
   "cell_type": "code",
   "execution_count": 548,
   "id": "10348d8d",
   "metadata": {},
   "outputs": [
    {
     "name": "stdout",
     "output_type": "stream",
     "text": [
      "[372, 375, 390, 392, 409, 420, 427, 443, 446, 461, 471, 477, 491, 505, 506, 519, 536, 546, 553, 562, 588, 600, 616, 617, 618, 633, 634, 636, 652, 652, 702, 703, 712, 718, 721, 730, 749, 763, 763, 764, 780, 780, 781, 782, 797, 862, 876, 877, 879, 879, 893, 894, 895, 896, 927, 944, 976, 976, 977, 979, 1006, 1008, 1022, 1024, 1024, 1040, 1040, 1042, 1043, 1058, 1120, 1121, 1138, 1139, 1140, 1156, 1158, 1169, 1172, 1185, 1221, 1222, 1224, 1240, 1241, 1250, 1256, 1266, 1268, 1269]\n"
     ]
    }
   ],
   "source": [
    "with open('Spectrum_task2.txt') as f:\n",
    "    spectrum = list(map(float, f.read().split()))\n",
    "    spectrum = list(map(round, spectrum))\n",
    "    \n",
    "print(spectrum)"
   ]
  },
  {
   "cell_type": "markdown",
   "id": "eec12347",
   "metadata": {},
   "source": [
    "создаем из аминокислот кусочки для спектра"
   ]
  },
  {
   "cell_type": "code",
   "execution_count": 549,
   "id": "403ff769",
   "metadata": {},
   "outputs": [
    {
     "name": "stdout",
     "output_type": "stream",
     "text": [
      "{'A': 71, 'R': 156, 'N': 114, 'D': 115, 'C': 103, 'Q': 128, 'E': 129, 'G': 57, 'H': 137, 'I': 113, 'L': 113, 'K': 128, 'M': 131, 'F': 147, 'P': 97, 'S': 87, 'T': 101, 'W': 186, 'Y': 163, 'V': 99, 'O': 114}\n"
     ]
    }
   ],
   "source": [
    "peptids = dict()\n",
    "for el in aminoacids:\n",
    "    peptids[el] = int(aminoacids[el] - 18)\n",
    "print(peptids)    "
   ]
  },
  {
   "cell_type": "markdown",
   "id": "08322743",
   "metadata": {},
   "source": [
    "смотрим разницу между всеми элементами спектра, которая попадает в диапазон аминкислот,\n",
    "чтобы узнать кто должен присутствовать в нашем белке"
   ]
  },
  {
   "cell_type": "code",
   "execution_count": 550,
   "id": "176c48fd",
   "metadata": {},
   "outputs": [
    {
     "name": "stdout",
     "output_type": "stream",
     "text": [
      "P 24 frequence 97 mass\n",
      "F 23 frequence 147 mass\n",
      "Y 22 frequence 163 mass\n",
      "E 20 frequence 129 mass\n",
      "V 20 frequence 99 mass\n",
      "N 19 frequence 114 mass\n",
      "O 19 frequence 114 mass\n",
      "I 19 frequence 113 mass\n",
      "L 19 frequence 113 mass\n",
      "D 16 frequence 115 mass\n",
      "Q 13 frequence 128 mass\n",
      "K 13 frequence 128 mass\n",
      "M 13 frequence 131 mass\n",
      "A 9 frequence 71 mass\n",
      "T 8 frequence 101 mass\n",
      "C 6 frequence 103 mass\n",
      "R 6 frequence 156 mass\n",
      "S 5 frequence 87 mass\n",
      "G 2 frequence 57 mass\n",
      "H 1 frequence 137 mass\n"
     ]
    }
   ],
   "source": [
    "differ = dict()\n",
    "\n",
    "for m in spectrum:\n",
    "    for n in spectrum:\n",
    "        if 190 >= round(m - n, 1) >= 57:\n",
    "            if m - n not in differ:\n",
    "                differ[m - n] = 1\n",
    "            else:\n",
    "                differ[m - n] += 1\n",
    "\n",
    "dif_sort = sorted(differ.items(), key=lambda item: item[1])[::-1]\n",
    "\n",
    "often = dict()\n",
    "\n",
    "for l in dif_sort:\n",
    "    for m, k in peptids.items():\n",
    "        if l[0] == k:\n",
    "            print(m, l[1], 'frequence', peptids[m], 'mass', end='\\n')\n",
    "            often[m] = l[1]\n",
    "            "
   ]
  },
  {
   "cell_type": "markdown",
   "id": "b3b9af77",
   "metadata": {},
   "source": [
    "Получили 19 аминокислот, ну круто. Не очень понимаю что из этого отбрасывать."
   ]
  },
  {
   "cell_type": "markdown",
   "id": "f86c189e",
   "metadata": {},
   "source": [
    "С учётом того что в будущем придётся проверять насколько хорошо спектр предполагаемого пептида совпадает с экспериментальным, то напишу функцию для подсчёта score конкретного пептида"
   ]
  },
  {
   "cell_type": "code",
   "execution_count": 660,
   "id": "a9351e0b",
   "metadata": {},
   "outputs": [],
   "source": [
    "def score(peptid: str) -> tuple:\n",
    "    '''\n",
    "    Смотрим какое количество подстрок будет находится в спектре с учетом того, что строка циклическая\n",
    "    '''\n",
    "    score = 0\n",
    "\n",
    "#     substrings = set()\n",
    "#     n = len(peptid)\n",
    "#     for i in range(n):\n",
    "#         for j in range(i + 1, n + 1):\n",
    "#             substrings.add(peptid[i:j])\n",
    "            \n",
    "    cyclic_string = peptid + peptid\n",
    "    substrings = set()\n",
    "\n",
    "    for i in range(len(peptid)):\n",
    "        for j in range(i + 1, i + len(peptid) + 1):\n",
    "            substrings.add(cyclic_string[i:j])\n",
    "            \n",
    "    for var in substrings:\n",
    "        t = 0\n",
    "        for char in var:\n",
    "            t += peptids[char]\n",
    "        if t in spectrum:\n",
    "            score += 1\n",
    "            \n",
    "    return (peptid,score)"
   ]
  },
  {
   "cell_type": "markdown",
   "id": "d7fe26f8",
   "metadata": {},
   "source": [
    "смотрим всевозможные сочетания с повторениями для поиска их в файле спектра. W не учитываем, т.к. ни разу не встретилась"
   ]
  },
  {
   "cell_type": "code",
   "execution_count": 661,
   "id": "75706125",
   "metadata": {},
   "outputs": [],
   "source": [
    "from itertools import *\n",
    "\n",
    "c3_20 = dict()\n",
    "\n",
    "# ARNDCQEGHILKMFPSTYVWO\n",
    "l = list()\n",
    "for i in combinations_with_replacement('ARNDCQEGHILKMFPSTYVWO', 3):\n",
    "    l.append(i)\n",
    "    name = i[0] + i[1] + i[2]\n",
    "    val = peptids[i[0]] + peptids[i[1]] + peptids[i[2]]\n",
    "    c3_20[name] = val"
   ]
  },
  {
   "cell_type": "markdown",
   "id": "5bcea6d6",
   "metadata": {},
   "source": [
    "сортируем их по возрастанию масс"
   ]
  },
  {
   "cell_type": "code",
   "execution_count": 662,
   "id": "c0eb4e1a",
   "metadata": {},
   "outputs": [],
   "source": [
    "sorted_omb = sorted(c3_20.items(), key=lambda item: item[1])"
   ]
  },
  {
   "cell_type": "markdown",
   "id": "58d28b79",
   "metadata": {},
   "source": [
    "проверяем наличие в спектре"
   ]
  },
  {
   "cell_type": "code",
   "execution_count": 663,
   "id": "1f99f2ab",
   "metadata": {},
   "outputs": [
    {
     "name": "stdout",
     "output_type": "stream",
     "text": [
      "{'ARY': 390, 'ADW': 372, 'AYW': 420, 'AWW': 443, 'RRD': 427, 'RRM': 443, 'RRP': 409, 'RDT': 372, 'RCI': 372, 'RCL': 372, 'RCM': 390, 'RES': 372, 'REW': 471, 'RHP': 390, 'RHV': 392, 'RFS': 390, 'RTY': 420, 'RTW': 443, 'RYW': 505, 'NNF': 375, 'NDY': 392, 'NEE': 372, 'NEF': 390, 'NIY': 390, 'NLY': 390, 'NMF': 392, 'NFO': 375, 'DQE': 372, 'DQF': 390, 'DEK': 372, 'DEM': 375, 'DIF': 375, 'DLF': 375, 'DKF': 390, 'DMY': 409, 'DFF': 409, 'DPY': 375, 'DYO': 392, 'CCW': 392, 'CMW': 420, 'CTW': 390, 'QEY': 420, 'QEW': 443, 'QIM': 372, 'QIW': 427, 'QLM': 372, 'QLW': 427, 'QMM': 390, 'QFP': 372, 'QFW': 461, 'QTY': 392, 'QYV': 390, 'QYW': 477, 'EEO': 372, 'EGW': 372, 'EKY': 420, 'EKW': 443, 'EMW': 446, 'EFV': 375, 'EFO': 390, 'GFW': 390, 'HHT': 375, 'HPW': 420, 'IKM': 372, 'IKW': 427, 'IMM': 375, 'IFW': 446, 'IYV': 375, 'IYO': 390, 'LKM': 372, 'LKW': 427, 'LMM': 375, 'LFW': 446, 'LYV': 375, 'LYO': 390, 'KMM': 390, 'KFP': 372, 'KFW': 461, 'KTY': 392, 'KYV': 390, 'KYW': 477, 'MMF': 409, 'MFP': 375, 'MFO': 392, 'FSW': 420, 'FYV': 409, 'FWW': 519, 'FOO': 375, 'PYW': 446, 'SVW': 372, 'TYY': 427, 'VWW': 471}\n"
     ]
    }
   ],
   "source": [
    "in_spectrum = dict()\n",
    "for m, v in c3_20.items():\n",
    "    if v in spectrum:\n",
    "        in_spectrum[m] = v\n",
    "\n",
    "print(in_spectrum)"
   ]
  },
  {
   "cell_type": "code",
   "execution_count": 664,
   "id": "f7f88d71",
   "metadata": {},
   "outputs": [
    {
     "name": "stdout",
     "output_type": "stream",
     "text": [
      "1269\n",
      "22.263157894736842\n",
      "6.82258064516129\n"
     ]
    }
   ],
   "source": [
    "print(max(spectrum))\n",
    "print(max(spectrum)/min(peptids.values()))\n",
    "print(max(spectrum)/max(peptids.values()))"
   ]
  },
  {
   "cell_type": "markdown",
   "id": "b5defe95",
   "metadata": {},
   "source": [
    "Точно какого размера наш белок мы не знаем, если ориентироваться на спектр, то он будет от 7 до 23 аминокислот"
   ]
  },
  {
   "cell_type": "markdown",
   "id": "7d2ae5e7",
   "metadata": {},
   "source": [
    "Попробуем сложить все наши самые частые аминокислоты и посмотреть на их массу. Может быть она будет примерно подходить"
   ]
  },
  {
   "cell_type": "code",
   "execution_count": 665,
   "id": "ce3ac18d",
   "metadata": {},
   "outputs": [
    {
     "name": "stdout",
     "output_type": "stream",
     "text": [
      "{'P': 24, 'F': 23, 'Y': 22, 'E': 20, 'V': 20, 'N': 19, 'O': 19, 'I': 19, 'L': 19, 'D': 16, 'Q': 13, 'K': 13, 'M': 13, 'A': 9, 'T': 8, 'C': 6, 'R': 6, 'S': 5, 'G': 2, 'H': 1}\n",
      "1350\n"
     ]
    }
   ],
   "source": [
    "print(often)\n",
    "s = 0\n",
    "for a,n in often.items():    \n",
    "    if n > 9:\n",
    "        s += peptids[a]\n",
    "print(s-113-128) # т.к. 113 и 128 встречаются дважды"
   ]
  },
  {
   "cell_type": "markdown",
   "id": "4fc94871",
   "metadata": {},
   "source": [
    "Получилось что-то похожее на наш максимум спектра. Но что делать дальше понятнее не стало"
   ]
  },
  {
   "cell_type": "markdown",
   "id": "3de09b2f",
   "metadata": {},
   "source": [
    "Поищем среди 4 аминокислот"
   ]
  },
  {
   "cell_type": "markdown",
   "id": "e8b0607f",
   "metadata": {},
   "source": [
    "Напишем функцию, которая будет искать пептид на 1 аминокислоту больше чем было"
   ]
  },
  {
   "cell_type": "code",
   "execution_count": 666,
   "id": "8021502d",
   "metadata": {},
   "outputs": [],
   "source": [
    "def dora(variants:dict ,n: int)->dict:\n",
    "    '''\n",
    "    n - number of best scores. For examples: if you have peptids with scores 1,2,3,4,5 \n",
    "    - you will get only peptides with score 4,5. That is n=2 highest scores  \n",
    "    \n",
    "    variants  - peptides with highest scores from last iteration of dora\n",
    "    '''\n",
    "    #ARNDCQEGHILKMFPSTYVWO\n",
    "    allowed = 'ARNDCQEGHILKMFPSTYVWO'\n",
    "    temp = dict()\n",
    "\n",
    "    for pep, q in variants.items():\n",
    "        for amin, e in peptids.items():\n",
    "            if amin in allowed and q+e in spectrum:\n",
    "                temp[pep+amin] = q+e               \n",
    "\n",
    "    max_score = sorted(list(map(score, temp.keys())),key=lambda item: item[1])[::-1]\n",
    "\n",
    "    scores = set()\n",
    "    for tpl in max_score:\n",
    "        scores.add(tpl[1])\n",
    "\n",
    "    soccer = sorted(list(scores))[::-1]\n",
    "    print('all scores', soccer)\n",
    "    print('n - scores',soccer[:n])\n",
    "\n",
    "    granted = dict()\n",
    "    \n",
    "    for l,m in max_score:\n",
    "        if m in soccer[:n]:\n",
    "            granted[l] = temp[l]\n",
    "    print(granted)\n",
    "    return granted"
   ]
  },
  {
   "cell_type": "markdown",
   "id": "37c9b0b1",
   "metadata": {},
   "source": [
    "Получим возможные четверки"
   ]
  },
  {
   "cell_type": "code",
   "execution_count": 667,
   "id": "573b259f",
   "metadata": {},
   "outputs": [
    {
     "name": "stdout",
     "output_type": "stream",
     "text": [
      "all scores [7, 6, 5]\n",
      "n - scores [7, 6, 5]\n",
      "{'VWWF': 618, 'FOOM': 506, 'FWWV': 618, 'MFOO': 506, 'MFON': 506, 'MFPM': 506, 'MMFP': 506, 'LMMM': 506, 'IMMM': 506, 'EFOE': 519, 'EEOF': 519, 'NFOM': 506, 'NMFO': 506, 'NMFN': 506, 'NEFE': 519, 'NEEF': 519, 'NNFM': 506, 'RHPR': 546, 'RCMR': 546, 'RRPH': 546, 'RRMC': 546, 'VWWY': 634, 'VWWE': 600, 'SVWV': 471, 'SVWF': 519, 'FWWO': 633, 'FWWP': 616, 'FWWD': 634, 'FWWN': 633, 'FSWV': 519, 'FSWG': 477, 'KYWR': 633, 'KYVY': 553, 'KYVT': 491, 'KYVE': 519, 'KTYV': 491, 'KFPF': 519, 'LYOY': 553, 'LYOD': 505, 'IYOY': 553, 'IYOD': 505, 'GFWS': 477, 'GFWE': 519, 'EKYV': 519, 'EGWF': 519, 'QYWR': 633, 'QYVY': 553, 'QYVT': 491, 'QYVE': 519, 'QTYV': 491, 'QFPF': 519, 'QEYV': 519, 'CTWT': 491, 'CTWR': 546, 'DYOO': 506, 'DYOL': 505, 'DYOI': 505, 'DYON': 506, 'DPYM': 506, 'DMYP': 506, 'DKFE': 519, 'DKFD': 505, 'DEMM': 506, 'DEKF': 519, 'DQFE': 519, 'DQFD': 505, 'DQEF': 519, 'NLYY': 553, 'NLYD': 505, 'NIYY': 553, 'NIYD': 505, 'NDYO': 506, 'NDYL': 505, 'NDYI': 505, 'NDYN': 506, 'RYWK': 633, 'RYWE': 634, 'RYWQ': 633, 'RTWC': 546, 'RTYA': 491, 'RFSS': 477, 'RFSE': 519, 'RFSR': 546, 'RHVV': 491, 'REWY': 634, 'REWE': 600, 'RESF': 519, 'RRPP': 506, 'AWWC': 546, 'AYWA': 491, 'ADWA': 443, 'ARYY': 553, 'ARYT': 491, 'ARYR': 546, 'ARYA': 461, 'SVWA': 443, 'FOOA': 446, 'FYVP': 506, 'FYVH': 546, 'FSWA': 491, 'MFOV': 491, 'MFOL': 505, 'MFOI': 505, 'MFPA': 446, 'MMFH': 546, 'KYVS': 477, 'KYVD': 505, 'KYVR': 546, 'KYVA': 461, 'KTYO': 506, 'KTYL': 505, 'KTYI': 505, 'KTYN': 506, 'KFWT': 562, 'KFWR': 617, 'KFPV': 471, 'KFPA': 443, 'KMMY': 553, 'KMMT': 491, 'KMMS': 477, 'KMME': 519, 'KMMD': 505, 'KMMR': 546, 'KMMA': 461, 'LYOT': 491, 'LYOS': 477, 'LYOE': 519, 'LYOR': 546, 'LYOA': 461, 'LYVM': 506, 'LYVA': 446, 'LMMA': 446, 'LKMV': 471, 'LKMF': 519, 'LKMA': 443, 'IYOT': 491, 'IYOS': 477, 'IYOE': 519, 'IYOR': 546, 'IYOA': 461, 'IYVM': 506, 'IYVA': 446, 'IMMA': 446, 'IKMV': 471, 'IKMF': 519, 'IKMA': 443, 'HPWV': 519, 'HPWG': 477, 'HPWA': 491, 'HHTM': 506, 'HHTA': 446, 'GFWY': 553, 'GFWT': 491, 'GFWD': 505, 'GFWR': 546, 'GFWA': 461, 'EFOY': 553, 'EFOT': 491, 'EFOS': 477, 'EFOD': 505, 'EFOR': 546, 'EFOA': 461, 'EFVM': 506, 'EFVA': 446, 'EKWC': 546, 'EKYG': 477, 'EKYA': 491, 'EGWV': 471, 'EGWA': 443, 'EEOV': 471, 'EEOA': 443, 'QYVS': 477, 'QYVD': 505, 'QYVR': 546, 'QYVA': 461, 'QTYO': 506, 'QTYL': 505, 'QTYI': 505, 'QTYN': 506, 'QFWT': 562, 'QFWR': 617, 'QFPV': 471, 'QFPA': 443, 'QMMY': 553, 'QMMT': 491, 'QMMS': 477, 'QMME': 519, 'QMMD': 505, 'QMMR': 546, 'QMMA': 461, 'QLMV': 471, 'QLMF': 519, 'QLMA': 443, 'QIMV': 471, 'QIMF': 519, 'QIMA': 443, 'QEWC': 546, 'QEYG': 477, 'QEYA': 491, 'CTWY': 553, 'CTWS': 477, 'CTWE': 519, 'CTWD': 505, 'CTWA': 461, 'CMWV': 519, 'CMWG': 477, 'CMWA': 491, 'CCWO': 506, 'CCWV': 491, 'CCWL': 505, 'CCWI': 505, 'CCWN': 506, 'DYOV': 491, 'DPYA': 446, 'DFFP': 506, 'DFFH': 546, 'DMYH': 546, 'DKFY': 553, 'DKFT': 491, 'DKFS': 477, 'DKFR': 546, 'DKFA': 461, 'DLFM': 506, 'DLFA': 446, 'DIFM': 506, 'DIFA': 446, 'DEMA': 446, 'DEKV': 471, 'DEKA': 443, 'DQFY': 553, 'DQFT': 491, 'DQFS': 477, 'DQFR': 546, 'DQFA': 461, 'DQEV': 471, 'DQEA': 443, 'NFOA': 446, 'NMFV': 491, 'NMFL': 505, 'NMFI': 505, 'NLYT': 491, 'NLYS': 477, 'NLYE': 519, 'NLYR': 546, 'NLYA': 461, 'NIYT': 491, 'NIYS': 477, 'NIYE': 519, 'NIYR': 546, 'NIYA': 461, 'NEFY': 553, 'NEFT': 491, 'NEFS': 477, 'NEFD': 505, 'NEFR': 546, 'NEFA': 461, 'NEEV': 471, 'NEEA': 443, 'NDYV': 491, 'NNFA': 446, 'RYWF': 652, 'RYWM': 636, 'RYWL': 618, 'RYWI': 618, 'RYWG': 562, 'RTYV': 519, 'RTYG': 477, 'RFSY': 553, 'RFST': 491, 'RFSD': 505, 'RFSA': 461, 'RHVO': 506, 'RHVL': 505, 'RHVI': 505, 'RHVN': 506, 'RHPY': 553, 'RHPT': 491, 'RHPS': 477, 'RHPE': 519, 'RHPD': 505, 'RHPA': 461, 'REWF': 618, 'RESV': 471, 'RESA': 443, 'RCMY': 553, 'RCMT': 491, 'RCMS': 477, 'RCME': 519, 'RCMD': 505, 'RCMA': 461, 'RCLV': 471, 'RCLF': 519, 'RCLA': 443, 'RCIV': 471, 'RCIF': 519, 'RCIA': 443, 'RDTV': 471, 'RDTF': 519, 'RDTA': 443, 'AYWV': 519, 'AYWG': 477, 'ADWV': 471, 'ADWF': 519, 'ARYS': 477, 'ARYE': 519, 'ARYD': 505}\n"
     ]
    }
   ],
   "source": [
    "four = dora(in_spectrum,3)"
   ]
  },
  {
   "cell_type": "markdown",
   "id": "42cebe3d",
   "metadata": {},
   "source": [
    "Пройдём через пару итераций"
   ]
  },
  {
   "cell_type": "code",
   "execution_count": 668,
   "id": "e44a5a48",
   "metadata": {},
   "outputs": [
    {
     "name": "stdout",
     "output_type": "stream",
     "text": [
      "all scores [12, 11, 10, 9, 8, 7]\n",
      "n - scores [12, 11, 10]\n",
      "{'QYVDE': 634, 'KYVDE': 634, 'ARYAR': 617, 'RFSRS': 633, 'DQFDE': 634, 'DKFDE': 634, 'EKYVD': 634, 'EEOFO': 633, 'EEOFN': 633, 'DEKVY': 634, 'QMMDE': 634, 'QMMED': 634, 'KMMDE': 634, 'KMMED': 634, 'ARYRA': 617, 'RYWQF': 780, 'RYWKF': 780, 'DQFDF': 652, 'DEKFD': 634, 'DEMMK': 634, 'DEMMQ': 634, 'DKFDF': 652, 'QEYVD': 634, 'QYVED': 634, 'KYVED': 634, 'RRMCR': 702, 'RRPHS': 633, 'RRPHR': 702, 'RCMRR': 702, 'RHPRS': 633, 'RHPRR': 702, 'EFOEO': 633, 'EFOEN': 633, 'FWWVY': 781, 'VWWFY': 781, 'ARYSR': 633, 'RHPSR': 633, 'RYWFK': 780, 'RYWFQ': 780, 'NEEVF': 618, 'NEEVE': 600, 'NEFRS': 633, 'NEFDF': 652, 'NEFDE': 634, 'NEFSR': 633, 'DQEVY': 634, 'DQEVF': 618, 'DQFRS': 633, 'DQFSR': 633, 'DKFRS': 633, 'DKFSR': 633, 'DFFPK': 634, 'DFFPQ': 634, 'QMMDM': 636, 'QFWRY': 780, 'EFORS': 633, 'EFOSR': 633, 'KMMDM': 636, 'KFWRY': 780, 'MFOIM': 636, 'MFOLM': 636, 'ARYAT': 562, 'ARYRS': 633, 'ARYTA': 562, 'AYWAA': 562, 'RFSRR': 702, 'RFSRA': 617, 'RFSSR': 633, 'NDYNK': 634, 'NDYNQ': 634, 'NDYOK': 634, 'NDYOQ': 634, 'DQEFD': 634, 'DQFDK': 633, 'DQFDL': 618, 'DQFDI': 618, 'DQFDQ': 633, 'DQFED': 634, 'DKFDK': 633, 'DKFDL': 618, 'DKFDI': 618, 'DKFDQ': 633, 'DKFED': 634, 'DYOIE': 634, 'DYOLE': 634, 'QFPFP': 616, 'QFPFD': 634, 'QYVYV': 652, 'QYWRF': 780, 'EGWFV': 618, 'IYODE': 634, 'LYODE': 634, 'KFPFP': 616, 'KFPFD': 634, 'KYVYV': 652, 'KYWRF': 780, 'FSWVV': 618, 'FWWNM': 764, 'FWWDF': 781, 'FWWOM': 764, 'VWWYF': 781, 'RRMCS': 633, 'RRMCA': 617, 'RRPHA': 617, 'RCMRS': 633, 'RCMRA': 617, 'RHPRA': 617, 'NEEFO': 633, 'NEEFN': 633, 'EEOFV': 618, 'EEOFD': 634, 'EFOEV': 618, 'EFOED': 634, 'IMMMK': 634, 'IMMMQ': 634, 'LMMMK': 634, 'LMMMQ': 634, 'MMFPK': 634, 'MMFPQ': 634}\n"
     ]
    }
   ],
   "source": [
    "five = dora(four,3)"
   ]
  },
  {
   "cell_type": "code",
   "execution_count": 669,
   "id": "a52b9825",
   "metadata": {},
   "outputs": [
    {
     "name": "stdout",
     "output_type": "stream",
     "text": [
      "all scores [18, 17, 16, 15, 14, 13, 12, 11, 10, 9]\n",
      "n - scores [18, 17, 16]\n",
      "{'DKFDQF': 780, 'DQFDKF': 780, 'NEFDFE': 781, 'ARYRAY': 780, 'RFSRAY': 780, 'DFFPQF': 781, 'DFFPKF': 781, 'DKFDFK': 780, 'DKFDFE': 781, 'DKFDFQ': 780, 'DQFDFK': 780, 'DQFDFE': 781, 'DQFDFQ': 780, 'MMFPQD': 749, 'MMFPKD': 749, 'EEOFDF': 781, 'FWWDFD': 896, 'KFPFDF': 781, 'QFPFDF': 781, 'DQEFDF': 781, 'MFOLML': 749, 'MFOLMI': 749, 'MFOIML': 749, 'MFOIMI': 749, 'DKFSRF': 780, 'DKFRSF': 780, 'DQFSRF': 780, 'DQFRSF': 780, 'DQEVYF': 781, 'NEFDEF': 781, 'DEKFDF': 781, 'KMMDED': 749, 'QMMDED': 749, 'DEKVYE': 763, 'DKFDEF': 781, 'DQFDEF': 781, 'RFSRSF': 780, 'ARYART': 718}\n",
      "{'DKFDQF': 780, 'DQFDKF': 780, 'NEFDFE': 781, 'ARYRAY': 780, 'RFSRAY': 780, 'DFFPQF': 781, 'DFFPKF': 781, 'DKFDFK': 780, 'DKFDFE': 781, 'DKFDFQ': 780, 'DQFDFK': 780, 'DQFDFE': 781, 'DQFDFQ': 780, 'MMFPQD': 749, 'MMFPKD': 749, 'EEOFDF': 781, 'FWWDFD': 896, 'KFPFDF': 781, 'QFPFDF': 781, 'DQEFDF': 781, 'MFOLML': 749, 'MFOLMI': 749, 'MFOIML': 749, 'MFOIMI': 749, 'DKFSRF': 780, 'DKFRSF': 780, 'DQFSRF': 780, 'DQFRSF': 780, 'DQEVYF': 781, 'NEFDEF': 781, 'DEKFDF': 781, 'KMMDED': 749, 'QMMDED': 749, 'DEKVYE': 763, 'DKFDEF': 781, 'DQFDEF': 781, 'RFSRSF': 780, 'ARYART': 718}\n"
     ]
    }
   ],
   "source": [
    "six = dora(five,3)\n",
    "print(six)"
   ]
  },
  {
   "cell_type": "code",
   "execution_count": 670,
   "id": "992ef164",
   "metadata": {},
   "outputs": [
    {
     "name": "stdout",
     "output_type": "stream",
     "text": [
      "all scores [25, 24, 23, 22, 21, 20, 19, 18, 17, 16, 15, 14, 13]\n",
      "n - scores [25, 24, 23]\n",
      "{'QFPFDFD': 896, 'KFPFDFD': 896, 'EEOFDFO': 895, 'EEOFDFN': 895, 'MFOIMIK': 877, 'MFOIMIQ': 877, 'MFOIMLK': 877, 'MFOIMLQ': 877, 'MFOLMIK': 877, 'MFOLMIQ': 877, 'MFOLMLK': 877, 'MFOLMLQ': 877, 'DQFDKFD': 895, 'DKFDQFD': 895, 'DQFDEFD': 896, 'DKFDEFD': 896, 'DQFDFQD': 895, 'DQFDFKD': 895, 'DKFDFQD': 895, 'DKFDFKD': 895, 'DFFPKFD': 896, 'DFFPQFD': 896}\n"
     ]
    }
   ],
   "source": [
    "seven = dora(six,3)"
   ]
  },
  {
   "cell_type": "code",
   "execution_count": 671,
   "id": "e7044285",
   "metadata": {},
   "outputs": [
    {
     "name": "stdout",
     "output_type": "stream",
     "text": [
      "all scores [37, 36, 35, 32, 30, 29, 28, 27, 26, 24, 22, 20]\n",
      "n - scores [37, 36, 35]\n",
      "{'DKFDQFDE': 1024, 'DQFDKFDE': 1024, 'DFFPQFDK': 1024, 'DFFPQFDQ': 1024, 'DFFPKFDK': 1024, 'DFFPKFDQ': 1024, 'DKFDFKDF': 1042, 'DKFDFKDE': 1024, 'DKFDFQDF': 1042, 'DKFDFQDE': 1024, 'DQFDFKDF': 1042, 'DQFDFKDE': 1024, 'DQFDFQDF': 1042, 'DQFDFQDE': 1024, 'DKFDQFDF': 1042, 'DQFDKFDF': 1042}\n"
     ]
    }
   ],
   "source": [
    "eight = dora(seven,3)"
   ]
  },
  {
   "cell_type": "code",
   "execution_count": 672,
   "id": "9992c768",
   "metadata": {},
   "outputs": [
    {
     "name": "stdout",
     "output_type": "stream",
     "text": [
      "all scores [42, 41, 37, 34, 33, 32, 29, 27]\n",
      "n - scores [42, 41, 37]\n",
      "{'DQFDKFDFP': 1139, 'DKFDQFDFP': 1139, 'DQFDFQDED': 1139, 'DQFDFKDED': 1139, 'DKFDFQDED': 1139, 'DKFDFKDED': 1139, 'DQFDKFDED': 1139, 'DKFDQFDED': 1139, 'DQFDFQDFP': 1139, 'DQFDFKDFP': 1139, 'DKFDFQDFP': 1139, 'DKFDFKDFP': 1139, 'DFFPKFDQD': 1139, 'DFFPKFDKD': 1139, 'DFFPQFDQD': 1139, 'DFFPQFDKD': 1139}\n"
     ]
    }
   ],
   "source": [
    "nine = dora(eight,3)"
   ]
  },
  {
   "cell_type": "code",
   "execution_count": 673,
   "id": "9e8a3d0e",
   "metadata": {},
   "outputs": [
    {
     "name": "stdout",
     "output_type": "stream",
     "text": [
      "all scores [52, 50, 49, 48, 38, 37, 36, 32]\n",
      "n - scores [52, 50, 49]\n",
      "{'DKFDFKDEDE': 1268, 'DKFDFQDEDE': 1268, 'DQFDFKDEDE': 1268, 'DQFDFQDEDE': 1268, 'DFFPQFDKDE': 1268, 'DFFPQFDQDE': 1268, 'DFFPKFDKDE': 1268, 'DFFPKFDQDE': 1268, 'DKFDQFDEDE': 1268, 'DQFDKFDEDE': 1268, 'DKFDFKDFPE': 1268, 'DKFDFQDFPE': 1268, 'DQFDFKDFPE': 1268, 'DQFDFQDFPE': 1268}\n"
     ]
    }
   ],
   "source": [
    "ten = dora(nine,3)"
   ]
  },
  {
   "cell_type": "code",
   "execution_count": 675,
   "id": "e2e68974",
   "metadata": {},
   "outputs": [
    {
     "data": {
      "text/plain": [
       "('FPFFNEYVOL', 26)"
      ]
     },
     "execution_count": 675,
     "metadata": {},
     "output_type": "execute_result"
    }
   ],
   "source": [
    "score('FPFFNEYVOL')"
   ]
  },
  {
   "cell_type": "markdown",
   "id": "c6b94b5a",
   "metadata": {},
   "source": [
    "Я чего-то либо принципиально не понимаю, либо достичь желаемого тироцидина моим способом нельзя\n",
    "FPFFNEYVOL (W)"
   ]
  }
 ],
 "metadata": {
  "kernelspec": {
   "display_name": "Python 3 (ipykernel)",
   "language": "python",
   "name": "python3"
  },
  "language_info": {
   "codemirror_mode": {
    "name": "ipython",
    "version": 3
   },
   "file_extension": ".py",
   "mimetype": "text/x-python",
   "name": "python",
   "nbconvert_exporter": "python",
   "pygments_lexer": "ipython3",
   "version": "3.9.6"
  }
 },
 "nbformat": 4,
 "nbformat_minor": 5
}
